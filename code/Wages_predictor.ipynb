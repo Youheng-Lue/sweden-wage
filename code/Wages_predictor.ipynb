{
 "cells": [
  {
   "cell_type": "markdown",
   "id": "128fd515",
   "metadata": {},
   "source": [
    "# Prediction of Wages based on past data\n",
    "\n",
    "We first import the relevant libraries, import the data and check if everything looks correct."
   ]
  },
  {
   "cell_type": "code",
   "execution_count": 1,
   "id": "446ee64d",
   "metadata": {},
   "outputs": [
    {
     "data": {
      "text/html": [
       "<div>\n",
       "<style scoped>\n",
       "    .dataframe tbody tr th:only-of-type {\n",
       "        vertical-align: middle;\n",
       "    }\n",
       "\n",
       "    .dataframe tbody tr th {\n",
       "        vertical-align: top;\n",
       "    }\n",
       "\n",
       "    .dataframe thead th {\n",
       "        text-align: right;\n",
       "    }\n",
       "</style>\n",
       "<table border=\"1\" class=\"dataframe\">\n",
       "  <thead>\n",
       "    <tr style=\"text-align: right;\">\n",
       "      <th></th>\n",
       "      <th>sex</th>\n",
       "      <th>region</th>\n",
       "      <th>year</th>\n",
       "      <th>Average monthly salary in the municipalities</th>\n",
       "    </tr>\n",
       "  </thead>\n",
       "  <tbody>\n",
       "    <tr>\n",
       "      <th>0</th>\n",
       "      <td>men</td>\n",
       "      <td>00 Sweden</td>\n",
       "      <td>2007</td>\n",
       "      <td>23500</td>\n",
       "    </tr>\n",
       "    <tr>\n",
       "      <th>1</th>\n",
       "      <td>men</td>\n",
       "      <td>00 Sweden</td>\n",
       "      <td>2008</td>\n",
       "      <td>24700</td>\n",
       "    </tr>\n",
       "    <tr>\n",
       "      <th>2</th>\n",
       "      <td>men</td>\n",
       "      <td>00 Sweden</td>\n",
       "      <td>2009</td>\n",
       "      <td>25400</td>\n",
       "    </tr>\n",
       "    <tr>\n",
       "      <th>3</th>\n",
       "      <td>men</td>\n",
       "      <td>00 Sweden</td>\n",
       "      <td>2010</td>\n",
       "      <td>25700</td>\n",
       "    </tr>\n",
       "    <tr>\n",
       "      <th>4</th>\n",
       "      <td>men</td>\n",
       "      <td>00 Sweden</td>\n",
       "      <td>2011</td>\n",
       "      <td>26300</td>\n",
       "    </tr>\n",
       "    <tr>\n",
       "      <th>5</th>\n",
       "      <td>men</td>\n",
       "      <td>00 Sweden</td>\n",
       "      <td>2012</td>\n",
       "      <td>26900</td>\n",
       "    </tr>\n",
       "    <tr>\n",
       "      <th>6</th>\n",
       "      <td>men</td>\n",
       "      <td>00 Sweden</td>\n",
       "      <td>2013</td>\n",
       "      <td>27700</td>\n",
       "    </tr>\n",
       "    <tr>\n",
       "      <th>7</th>\n",
       "      <td>men</td>\n",
       "      <td>00 Sweden</td>\n",
       "      <td>2014</td>\n",
       "      <td>28400</td>\n",
       "    </tr>\n",
       "    <tr>\n",
       "      <th>8</th>\n",
       "      <td>men</td>\n",
       "      <td>00 Sweden</td>\n",
       "      <td>2015</td>\n",
       "      <td>29000</td>\n",
       "    </tr>\n",
       "    <tr>\n",
       "      <th>9</th>\n",
       "      <td>men</td>\n",
       "      <td>00 Sweden</td>\n",
       "      <td>2016</td>\n",
       "      <td>29700</td>\n",
       "    </tr>\n",
       "    <tr>\n",
       "      <th>10</th>\n",
       "      <td>men</td>\n",
       "      <td>00 Sweden</td>\n",
       "      <td>2017</td>\n",
       "      <td>30500</td>\n",
       "    </tr>\n",
       "    <tr>\n",
       "      <th>11</th>\n",
       "      <td>men</td>\n",
       "      <td>00 Sweden</td>\n",
       "      <td>2018</td>\n",
       "      <td>31200</td>\n",
       "    </tr>\n",
       "    <tr>\n",
       "      <th>12</th>\n",
       "      <td>men</td>\n",
       "      <td>00 Sweden</td>\n",
       "      <td>2019</td>\n",
       "      <td>32000</td>\n",
       "    </tr>\n",
       "    <tr>\n",
       "      <th>13</th>\n",
       "      <td>men</td>\n",
       "      <td>00 Sweden</td>\n",
       "      <td>2020</td>\n",
       "      <td>32600</td>\n",
       "    </tr>\n",
       "    <tr>\n",
       "      <th>14</th>\n",
       "      <td>men</td>\n",
       "      <td>0114 Upplands Väsby</td>\n",
       "      <td>2007</td>\n",
       "      <td>24300</td>\n",
       "    </tr>\n",
       "    <tr>\n",
       "      <th>15</th>\n",
       "      <td>men</td>\n",
       "      <td>0114 Upplands Väsby</td>\n",
       "      <td>2008</td>\n",
       "      <td>26000</td>\n",
       "    </tr>\n",
       "    <tr>\n",
       "      <th>16</th>\n",
       "      <td>men</td>\n",
       "      <td>0114 Upplands Väsby</td>\n",
       "      <td>2009</td>\n",
       "      <td>27200</td>\n",
       "    </tr>\n",
       "    <tr>\n",
       "      <th>17</th>\n",
       "      <td>men</td>\n",
       "      <td>0114 Upplands Väsby</td>\n",
       "      <td>2010</td>\n",
       "      <td>26900</td>\n",
       "    </tr>\n",
       "    <tr>\n",
       "      <th>18</th>\n",
       "      <td>men</td>\n",
       "      <td>0114 Upplands Väsby</td>\n",
       "      <td>2011</td>\n",
       "      <td>28400</td>\n",
       "    </tr>\n",
       "    <tr>\n",
       "      <th>19</th>\n",
       "      <td>men</td>\n",
       "      <td>0114 Upplands Väsby</td>\n",
       "      <td>2012</td>\n",
       "      <td>29200</td>\n",
       "    </tr>\n",
       "  </tbody>\n",
       "</table>\n",
       "</div>"
      ],
      "text/plain": [
       "    sex               region  year  \\\n",
       "0   men            00 Sweden  2007   \n",
       "1   men            00 Sweden  2008   \n",
       "2   men            00 Sweden  2009   \n",
       "3   men            00 Sweden  2010   \n",
       "4   men            00 Sweden  2011   \n",
       "5   men            00 Sweden  2012   \n",
       "6   men            00 Sweden  2013   \n",
       "7   men            00 Sweden  2014   \n",
       "8   men            00 Sweden  2015   \n",
       "9   men            00 Sweden  2016   \n",
       "10  men            00 Sweden  2017   \n",
       "11  men            00 Sweden  2018   \n",
       "12  men            00 Sweden  2019   \n",
       "13  men            00 Sweden  2020   \n",
       "14  men  0114 Upplands Väsby  2007   \n",
       "15  men  0114 Upplands Väsby  2008   \n",
       "16  men  0114 Upplands Väsby  2009   \n",
       "17  men  0114 Upplands Väsby  2010   \n",
       "18  men  0114 Upplands Väsby  2011   \n",
       "19  men  0114 Upplands Väsby  2012   \n",
       "\n",
       "    Average monthly salary in the municipalities  \n",
       "0                                          23500  \n",
       "1                                          24700  \n",
       "2                                          25400  \n",
       "3                                          25700  \n",
       "4                                          26300  \n",
       "5                                          26900  \n",
       "6                                          27700  \n",
       "7                                          28400  \n",
       "8                                          29000  \n",
       "9                                          29700  \n",
       "10                                         30500  \n",
       "11                                         31200  \n",
       "12                                         32000  \n",
       "13                                         32600  \n",
       "14                                         24300  \n",
       "15                                         26000  \n",
       "16                                         27200  \n",
       "17                                         26900  \n",
       "18                                         28400  \n",
       "19                                         29200  "
      ]
     },
     "execution_count": 1,
     "metadata": {},
     "output_type": "execute_result"
    }
   ],
   "source": [
    "import pandas as pd\n",
    "import numpy as np\n",
    "\n",
    "df = pd.read_csv(\"Average Wage.csv\", sep = \",\", encoding = \"ANSI\")\n",
    "\n",
    "target = \"Average monthly salary in the municipalities\"\n",
    "df.head(20)"
   ]
  },
  {
   "cell_type": "code",
   "execution_count": 2,
   "id": "271a88ef",
   "metadata": {},
   "outputs": [
    {
     "data": {
      "text/html": [
       "<div>\n",
       "<style scoped>\n",
       "    .dataframe tbody tr th:only-of-type {\n",
       "        vertical-align: middle;\n",
       "    }\n",
       "\n",
       "    .dataframe tbody tr th {\n",
       "        vertical-align: top;\n",
       "    }\n",
       "\n",
       "    .dataframe thead th {\n",
       "        text-align: right;\n",
       "    }\n",
       "</style>\n",
       "<table border=\"1\" class=\"dataframe\">\n",
       "  <thead>\n",
       "    <tr style=\"text-align: right;\">\n",
       "      <th></th>\n",
       "      <th>sex</th>\n",
       "      <th>region</th>\n",
       "      <th>year</th>\n",
       "      <th>Average monthly salary in the municipalities</th>\n",
       "    </tr>\n",
       "  </thead>\n",
       "  <tbody>\n",
       "    <tr>\n",
       "      <th>count</th>\n",
       "      <td>12264</td>\n",
       "      <td>12264</td>\n",
       "      <td>12264.000000</td>\n",
       "      <td>12264.000000</td>\n",
       "    </tr>\n",
       "    <tr>\n",
       "      <th>unique</th>\n",
       "      <td>3</td>\n",
       "      <td>292</td>\n",
       "      <td>NaN</td>\n",
       "      <td>NaN</td>\n",
       "    </tr>\n",
       "    <tr>\n",
       "      <th>top</th>\n",
       "      <td>men</td>\n",
       "      <td>00 Sweden</td>\n",
       "      <td>NaN</td>\n",
       "      <td>NaN</td>\n",
       "    </tr>\n",
       "    <tr>\n",
       "      <th>freq</th>\n",
       "      <td>4088</td>\n",
       "      <td>42</td>\n",
       "      <td>NaN</td>\n",
       "      <td>NaN</td>\n",
       "    </tr>\n",
       "    <tr>\n",
       "      <th>mean</th>\n",
       "      <td>NaN</td>\n",
       "      <td>NaN</td>\n",
       "      <td>2013.500000</td>\n",
       "      <td>27019.553164</td>\n",
       "    </tr>\n",
       "    <tr>\n",
       "      <th>std</th>\n",
       "      <td>NaN</td>\n",
       "      <td>NaN</td>\n",
       "      <td>4.031293</td>\n",
       "      <td>3158.781713</td>\n",
       "    </tr>\n",
       "    <tr>\n",
       "      <th>min</th>\n",
       "      <td>NaN</td>\n",
       "      <td>NaN</td>\n",
       "      <td>2007.000000</td>\n",
       "      <td>19700.000000</td>\n",
       "    </tr>\n",
       "    <tr>\n",
       "      <th>25%</th>\n",
       "      <td>NaN</td>\n",
       "      <td>NaN</td>\n",
       "      <td>2010.000000</td>\n",
       "      <td>24600.000000</td>\n",
       "    </tr>\n",
       "    <tr>\n",
       "      <th>50%</th>\n",
       "      <td>NaN</td>\n",
       "      <td>NaN</td>\n",
       "      <td>2013.500000</td>\n",
       "      <td>26800.000000</td>\n",
       "    </tr>\n",
       "    <tr>\n",
       "      <th>75%</th>\n",
       "      <td>NaN</td>\n",
       "      <td>NaN</td>\n",
       "      <td>2017.000000</td>\n",
       "      <td>29500.000000</td>\n",
       "    </tr>\n",
       "    <tr>\n",
       "      <th>max</th>\n",
       "      <td>NaN</td>\n",
       "      <td>NaN</td>\n",
       "      <td>2020.000000</td>\n",
       "      <td>38100.000000</td>\n",
       "    </tr>\n",
       "  </tbody>\n",
       "</table>\n",
       "</div>"
      ],
      "text/plain": [
       "          sex     region          year  \\\n",
       "count   12264      12264  12264.000000   \n",
       "unique      3        292           NaN   \n",
       "top       men  00 Sweden           NaN   \n",
       "freq     4088         42           NaN   \n",
       "mean      NaN        NaN   2013.500000   \n",
       "std       NaN        NaN      4.031293   \n",
       "min       NaN        NaN   2007.000000   \n",
       "25%       NaN        NaN   2010.000000   \n",
       "50%       NaN        NaN   2013.500000   \n",
       "75%       NaN        NaN   2017.000000   \n",
       "max       NaN        NaN   2020.000000   \n",
       "\n",
       "        Average monthly salary in the municipalities  \n",
       "count                                   12264.000000  \n",
       "unique                                           NaN  \n",
       "top                                              NaN  \n",
       "freq                                             NaN  \n",
       "mean                                    27019.553164  \n",
       "std                                      3158.781713  \n",
       "min                                     19700.000000  \n",
       "25%                                     24600.000000  \n",
       "50%                                     26800.000000  \n",
       "75%                                     29500.000000  \n",
       "max                                     38100.000000  "
      ]
     },
     "execution_count": 2,
     "metadata": {},
     "output_type": "execute_result"
    }
   ],
   "source": [
    "df.describe(include = 'all')"
   ]
  },
  {
   "cell_type": "markdown",
   "id": "63b3f7eb",
   "metadata": {},
   "source": [
    "After importing the data and looking at the summary, we know the following about our data.\n",
    "\n",
    "1. It has 12264 rows and 4 columns\n",
    "2. There are three unique sexes (\"men\", \"women\", \"total\")\n",
    "3. There are 292 unique regions\n",
    "4. Year goes from 2007 - 2020\n",
    "5. Salary ranges from 19700 - 38100\n",
    "\n",
    "Let's now take a deeper look at the data."
   ]
  },
  {
   "cell_type": "markdown",
   "id": "e4a1c0f0",
   "metadata": {},
   "source": [
    "## Looking at the data\n",
    "The goal is to see how the data behaves in order to build an accurate prediction model about the future. First we plot the Region 00 Sweden, to see: \n",
    "1. How the general trend looks like.\n",
    "2. If there is a difference between the sexes.\n",
    "\n"
   ]
  },
  {
   "cell_type": "code",
   "execution_count": 3,
   "id": "db3afa0a",
   "metadata": {},
   "outputs": [
    {
     "data": {
      "image/png": "[encoded data removed]",
      "text/plain": [
       "<Figure size 576x324 with 1 Axes>"
      ]
     },
     "metadata": {
      "needs_background": "light"
     },
     "output_type": "display_data"
    }
   ],
   "source": [
    "from matplotlib import pyplot as plt\n",
    "golden = [8, 4.5]\n",
    "\n",
    "fig,ax = plt.subplots(figsize = golden)\n",
    "\n",
    "df_Sweden = df.loc[df.region == \"00 Sweden\"]\n",
    "\n",
    "df_Sweden.loc[df_Sweden.sex == \"men\"].plot(x=\"year\", y = target, ax = ax)\n",
    "\n",
    "df_Sweden.loc[df_Sweden.sex == \"total\"].plot(x=\"year\", y = target, ax = ax)\n",
    "df_Sweden.loc[df_Sweden.sex == \"women\"].plot(x=\"year\", y = target, ax = ax)\n",
    "\n",
    "ax.legend([\"men\", \"total\", \"women\"], fontsize = 14)\n",
    "plt.xticks(fontsize = 14)\n",
    "plt.yticks(fontsize = 14)\n",
    "ax.set_ylabel(\"Average salary (SEK)\", size = 16)\n",
    "ax.set_xlabel(\"Year\", size = 16)\n",
    "ax.figure.savefig(\"TotalSwedenSalary.pdf\")"
   ]
  },
  {
   "cell_type": "markdown",
   "id": "e9f3f9d5",
   "metadata": {},
   "source": [
    "### Result\n",
    "\n",
    "1. The wages go up in a quite linear fassion. \n",
    "2. There is a salary gap between men and women, but it is getting closer.\n",
    "\n",
    "## Deeper look\n",
    "\n",
    "We assume that the salaries of men and women is getting closer. During prediction we have to be careful, since we can not use the data (Stockholm, 2020, men) to predict (Stockholm, 2020, women), since the data will not be available in the future. To prevent running into this issue, we simplify this problem by just removing the *sex* column. We can justify this, since the wagegap seems to grow close enough so the different genders won't matter in the future.\n",
    "\n",
    "\n"
   ]
  },
  {
   "cell_type": "code",
   "execution_count": 4,
   "id": "9cbb1703",
   "metadata": {},
   "outputs": [],
   "source": [
    "df = df.loc[df.sex == \"total\"]\n",
    "df = df.drop([\"sex\"], axis = 1)\n",
    "df.reset_index(inplace = True)"
   ]
  },
  {
   "cell_type": "markdown",
   "id": "67df1886",
   "metadata": {},
   "source": [
    "We will now plot the Municipalities with \n",
    "* The highest salary in 2020\n",
    "* The lowest salary in 2020\n",
    "* The highest salary in 2008 \n",
    "* Borlänge\n",
    "* Stockholm\n",
    "\n",
    "These will be probably the most interesting municipalities. In the background we will plot the average salaries of all the other municipalities in grey."
   ]
  },
  {
   "cell_type": "code",
   "execution_count": 5,
   "id": "52276a3d",
   "metadata": {},
   "outputs": [
    {
     "data": {
      "image/png": "[encoded data removed]",
      "text/plain": [
       "<Figure size 576x324 with 1 Axes>"
      ]
     },
     "metadata": {
      "needs_background": "light"
     },
     "output_type": "display_data"
    }
   ],
   "source": [
    "max_2020 = df.iloc[df[target].idxmax()]\n",
    "min_2020 = df.iloc[df.loc[df.year == 2020][target].idxmin()]\n",
    "\n",
    "min_2008 = df.iloc[df[target].idxmin()]\n",
    "max_2008 = df.iloc[df.loc[df.year == 2008][target].idxmax()]\n",
    "\n",
    "stockholm = df.loc[df.region.str.contains(\"Stockholm\")].iloc[0]\n",
    "borlänge = df.loc[df.region.str.contains(\"Borlänge\")].iloc[0]\n",
    "sollentuna_men = df.loc[df.region.str.contains(\"Sollentuna\")].iloc[0]\n",
    "\n",
    "value_list = [max_2020, stockholm, max_2008, borlänge, min_2020]\n",
    "\n",
    "fig,ax = plt.subplots(figsize = golden)\n",
    "\n",
    "\n",
    "for val in value_list:\n",
    "    df_tmp = df.loc[df.region == val.region]\n",
    "    df_tmp.plot(x = \"year\", y = target,ax = ax)\n",
    "\n",
    "df.plot(x = \"year\", y = target,ax = ax, alpha = 0.3, color = \"grey\")\n",
    "ax.legend([val.region for val in value_list] + [\"All Other regions\"], fontsize = 14)\n",
    "ax.set_ylabel(\"Average Salary(SEK)\", size = 16)\n",
    "ax.set_xlabel(\"Year\", size = 16)\n",
    "plt.ylim([19000, 50000])\n",
    "plt.xticks(fontsize = 14)\n",
    "plt.yticks(fontsize = 14)\n",
    "\n",
    "fig.savefig(\"Wages_Regions.pdf\")"
   ]
  },
  {
   "cell_type": "markdown",
   "id": "c3e8a3f7",
   "metadata": {},
   "source": [
    "### Result\n",
    "The municipalities all show a general linear trend which we can use for the prediction. We can see some differences though, for example. Local federation was highest in 2007 but was surpassed by Sollentuna was highest in 2020."
   ]
  },
  {
   "cell_type": "markdown",
   "id": "d790a456",
   "metadata": {},
   "source": [
    "## Data preparation\n",
    "We first need to prepare and clean the data for further processing. \n",
    "1. Check NA-Values\n",
    "2. One-Hot encoding for region\n"
   ]
  },
  {
   "cell_type": "code",
   "execution_count": 6,
   "id": "4d14922f",
   "metadata": {},
   "outputs": [
    {
     "name": "stdout",
     "output_type": "stream",
     "text": [
      "<class 'pandas.core.frame.DataFrame'>\n",
      "RangeIndex: 4088 entries, 0 to 4087\n",
      "Data columns (total 4 columns):\n",
      " #   Column                                        Non-Null Count  Dtype \n",
      "---  ------                                        --------------  ----- \n",
      " 0   index                                         4088 non-null   int64 \n",
      " 1   region                                        4088 non-null   object\n",
      " 2   year                                          4088 non-null   int64 \n",
      " 3   Average monthly salary in the municipalities  4088 non-null   int64 \n",
      "dtypes: int64(3), object(1)\n",
      "memory usage: 127.9+ KB\n"
     ]
    }
   ],
   "source": [
    "df.info()"
   ]
  },
  {
   "cell_type": "markdown",
   "id": "c631a7ca",
   "metadata": {},
   "source": [
    "We find no NA-Values\n",
    "\n",
    "### One-Hot Encoding\n",
    "The column *region* is a categorical varible and must therefore be encoded to give an accurate prediction. We use `pd.get_dummies` for that"
   ]
  },
  {
   "cell_type": "code",
   "execution_count": 7,
   "id": "13993971",
   "metadata": {},
   "outputs": [],
   "source": [
    "\n",
    "target = \"Average monthly salary in the municipalities\"\n",
    "X = df.drop([target], axis = 1)\n",
    "y = df[[target]]\n",
    "\n",
    "X_enc = pd.get_dummies(X, columns = [\"region\"])\n"
   ]
  },
  {
   "cell_type": "code",
   "execution_count": 8,
   "id": "ef66ee59",
   "metadata": {},
   "outputs": [
    {
     "data": {
      "text/html": [
       "<div>\n",
       "<style scoped>\n",
       "    .dataframe tbody tr th:only-of-type {\n",
       "        vertical-align: middle;\n",
       "    }\n",
       "\n",
       "    .dataframe tbody tr th {\n",
       "        vertical-align: top;\n",
       "    }\n",
       "\n",
       "    .dataframe thead th {\n",
       "        text-align: right;\n",
       "    }\n",
       "</style>\n",
       "<table border=\"1\" class=\"dataframe\">\n",
       "  <thead>\n",
       "    <tr style=\"text-align: right;\">\n",
       "      <th></th>\n",
       "      <th>index</th>\n",
       "      <th>year</th>\n",
       "      <th>region_00 Sweden</th>\n",
       "      <th>region_0114 Upplands Väsby</th>\n",
       "      <th>region_0115 Vallentuna</th>\n",
       "      <th>region_0117 Österåker</th>\n",
       "      <th>region_0120 Värmdö</th>\n",
       "      <th>region_0123 Järfälla</th>\n",
       "      <th>region_0125 Ekerö</th>\n",
       "      <th>region_0126 Huddinge</th>\n",
       "      <th>...</th>\n",
       "      <th>region_2518 Övertorneå</th>\n",
       "      <th>region_2521 Pajala</th>\n",
       "      <th>region_2523 Gällivare</th>\n",
       "      <th>region_2560 Älvsbyn</th>\n",
       "      <th>region_2580 Luleå</th>\n",
       "      <th>region_2581 Piteå</th>\n",
       "      <th>region_2582 Boden</th>\n",
       "      <th>region_2583 Haparanda</th>\n",
       "      <th>region_2584 Kiruna</th>\n",
       "      <th>region_3000 Local federation</th>\n",
       "    </tr>\n",
       "  </thead>\n",
       "  <tbody>\n",
       "    <tr>\n",
       "      <th>0</th>\n",
       "      <td>8176</td>\n",
       "      <td>2007</td>\n",
       "      <td>1</td>\n",
       "      <td>0</td>\n",
       "      <td>0</td>\n",
       "      <td>0</td>\n",
       "      <td>0</td>\n",
       "      <td>0</td>\n",
       "      <td>0</td>\n",
       "      <td>0</td>\n",
       "      <td>...</td>\n",
       "      <td>0</td>\n",
       "      <td>0</td>\n",
       "      <td>0</td>\n",
       "      <td>0</td>\n",
       "      <td>0</td>\n",
       "      <td>0</td>\n",
       "      <td>0</td>\n",
       "      <td>0</td>\n",
       "      <td>0</td>\n",
       "      <td>0</td>\n",
       "    </tr>\n",
       "    <tr>\n",
       "      <th>1</th>\n",
       "      <td>8177</td>\n",
       "      <td>2008</td>\n",
       "      <td>1</td>\n",
       "      <td>0</td>\n",
       "      <td>0</td>\n",
       "      <td>0</td>\n",
       "      <td>0</td>\n",
       "      <td>0</td>\n",
       "      <td>0</td>\n",
       "      <td>0</td>\n",
       "      <td>...</td>\n",
       "      <td>0</td>\n",
       "      <td>0</td>\n",
       "      <td>0</td>\n",
       "      <td>0</td>\n",
       "      <td>0</td>\n",
       "      <td>0</td>\n",
       "      <td>0</td>\n",
       "      <td>0</td>\n",
       "      <td>0</td>\n",
       "      <td>0</td>\n",
       "    </tr>\n",
       "    <tr>\n",
       "      <th>2</th>\n",
       "      <td>8178</td>\n",
       "      <td>2009</td>\n",
       "      <td>1</td>\n",
       "      <td>0</td>\n",
       "      <td>0</td>\n",
       "      <td>0</td>\n",
       "      <td>0</td>\n",
       "      <td>0</td>\n",
       "      <td>0</td>\n",
       "      <td>0</td>\n",
       "      <td>...</td>\n",
       "      <td>0</td>\n",
       "      <td>0</td>\n",
       "      <td>0</td>\n",
       "      <td>0</td>\n",
       "      <td>0</td>\n",
       "      <td>0</td>\n",
       "      <td>0</td>\n",
       "      <td>0</td>\n",
       "      <td>0</td>\n",
       "      <td>0</td>\n",
       "    </tr>\n",
       "    <tr>\n",
       "      <th>3</th>\n",
       "      <td>8179</td>\n",
       "      <td>2010</td>\n",
       "      <td>1</td>\n",
       "      <td>0</td>\n",
       "      <td>0</td>\n",
       "      <td>0</td>\n",
       "      <td>0</td>\n",
       "      <td>0</td>\n",
       "      <td>0</td>\n",
       "      <td>0</td>\n",
       "      <td>...</td>\n",
       "      <td>0</td>\n",
       "      <td>0</td>\n",
       "      <td>0</td>\n",
       "      <td>0</td>\n",
       "      <td>0</td>\n",
       "      <td>0</td>\n",
       "      <td>0</td>\n",
       "      <td>0</td>\n",
       "      <td>0</td>\n",
       "      <td>0</td>\n",
       "    </tr>\n",
       "    <tr>\n",
       "      <th>4</th>\n",
       "      <td>8180</td>\n",
       "      <td>2011</td>\n",
       "      <td>1</td>\n",
       "      <td>0</td>\n",
       "      <td>0</td>\n",
       "      <td>0</td>\n",
       "      <td>0</td>\n",
       "      <td>0</td>\n",
       "      <td>0</td>\n",
       "      <td>0</td>\n",
       "      <td>...</td>\n",
       "      <td>0</td>\n",
       "      <td>0</td>\n",
       "      <td>0</td>\n",
       "      <td>0</td>\n",
       "      <td>0</td>\n",
       "      <td>0</td>\n",
       "      <td>0</td>\n",
       "      <td>0</td>\n",
       "      <td>0</td>\n",
       "      <td>0</td>\n",
       "    </tr>\n",
       "  </tbody>\n",
       "</table>\n",
       "<p>5 rows × 294 columns</p>\n",
       "</div>"
      ],
      "text/plain": [
       "   index  year  region_00 Sweden  region_0114 Upplands Väsby  \\\n",
       "0   8176  2007                 1                           0   \n",
       "1   8177  2008                 1                           0   \n",
       "2   8178  2009                 1                           0   \n",
       "3   8179  2010                 1                           0   \n",
       "4   8180  2011                 1                           0   \n",
       "\n",
       "   region_0115 Vallentuna  region_0117 Österåker  region_0120 Värmdö  \\\n",
       "0                       0                      0                   0   \n",
       "1                       0                      0                   0   \n",
       "2                       0                      0                   0   \n",
       "3                       0                      0                   0   \n",
       "4                       0                      0                   0   \n",
       "\n",
       "   region_0123 Järfälla  region_0125 Ekerö  region_0126 Huddinge  ...  \\\n",
       "0                     0                  0                     0  ...   \n",
       "1                     0                  0                     0  ...   \n",
       "2                     0                  0                     0  ...   \n",
       "3                     0                  0                     0  ...   \n",
       "4                     0                  0                     0  ...   \n",
       "\n",
       "   region_2518 Övertorneå  region_2521 Pajala  region_2523 Gällivare  \\\n",
       "0                       0                   0                      0   \n",
       "1                       0                   0                      0   \n",
       "2                       0                   0                      0   \n",
       "3                       0                   0                      0   \n",
       "4                       0                   0                      0   \n",
       "\n",
       "   region_2560 Älvsbyn  region_2580 Luleå  region_2581 Piteå  \\\n",
       "0                    0                  0                  0   \n",
       "1                    0                  0                  0   \n",
       "2                    0                  0                  0   \n",
       "3                    0                  0                  0   \n",
       "4                    0                  0                  0   \n",
       "\n",
       "   region_2582 Boden  region_2583 Haparanda  region_2584 Kiruna  \\\n",
       "0                  0                      0                   0   \n",
       "1                  0                      0                   0   \n",
       "2                  0                      0                   0   \n",
       "3                  0                      0                   0   \n",
       "4                  0                      0                   0   \n",
       "\n",
       "   region_3000 Local federation  \n",
       "0                             0  \n",
       "1                             0  \n",
       "2                             0  \n",
       "3                             0  \n",
       "4                             0  \n",
       "\n",
       "[5 rows x 294 columns]"
      ]
     },
     "execution_count": 8,
     "metadata": {},
     "output_type": "execute_result"
    }
   ],
   "source": [
    "X_enc.head()"
   ]
  },
  {
   "cell_type": "markdown",
   "id": "828b8459",
   "metadata": {},
   "source": [
    "## Fit the Model\n",
    "The data is now ready for modelling. We want to fit a Linear Regression to predict the data. We fit a Decision Tree and a Random Forest as well. This is to compare CV-Scores in the end so we can deduce how good our model really is.\n",
    "\n",
    "1. Linear Regression\n",
    "2. Decision Tree\n"
   ]
  },
  {
   "cell_type": "code",
   "execution_count": 9,
   "id": "41870173",
   "metadata": {},
   "outputs": [
    {
     "name": "stdout",
     "output_type": "stream",
     "text": [
      "0.91 accuracy with a standard deviation of 0.04\n"
     ]
    }
   ],
   "source": [
    "from sklearn.model_selection import cross_val_score\n",
    "from sklearn.linear_model import LinearRegression\n",
    "\n",
    "clf = LinearRegression()\n",
    "\n",
    "scores = cross_val_score(clf, X_enc, y, cv = 5)\n",
    "print(\"%0.2f accuracy with a standard deviation of %0.2f\" % (scores.mean(), scores.std()))"
   ]
  },
  {
   "cell_type": "code",
   "execution_count": 10,
   "id": "a49d0861",
   "metadata": {},
   "outputs": [
    {
     "name": "stdout",
     "output_type": "stream",
     "text": [
      "0.91 accuracy with a standard deviation of 0.06\n"
     ]
    }
   ],
   "source": [
    "from sklearn.tree import DecisionTreeRegressor\n",
    "\n",
    "clf = DecisionTreeRegressor()\n",
    "scores = cross_val_score(clf, X_enc, y, cv = 5)\n",
    "print(\"%0.2f accuracy with a standard deviation of %0.2f\" % (scores.mean(), scores.std()))"
   ]
  },
  {
   "cell_type": "markdown",
   "id": "6ea817d8",
   "metadata": {},
   "source": [
    "The Decision Tree does slightly better on the Cross-Validation, but the Linear Regression model seems still good. Let's see if Random Forest might be even better."
   ]
  },
  {
   "cell_type": "code",
   "execution_count": 11,
   "id": "f7c021f2",
   "metadata": {},
   "outputs": [
    {
     "name": "stderr",
     "output_type": "stream",
     "text": [
      "[Parallel(n_jobs=-1)]: Using backend LokyBackend with 8 concurrent workers.\n",
      "[Parallel(n_jobs=-1)]: Done  34 tasks      | elapsed:    1.3s\n",
      "[Parallel(n_jobs=-1)]: Done 100 out of 100 | elapsed:    1.6s finished\n",
      "[Parallel(n_jobs=8)]: Using backend ThreadingBackend with 8 concurrent workers.\n",
      "[Parallel(n_jobs=8)]: Done  34 tasks      | elapsed:    0.0s\n",
      "[Parallel(n_jobs=8)]: Done 100 out of 100 | elapsed:    0.0s finished\n",
      "[Parallel(n_jobs=-1)]: Using backend LokyBackend with 8 concurrent workers.\n",
      "[Parallel(n_jobs=-1)]: Done  56 tasks      | elapsed:    0.2s\n",
      "[Parallel(n_jobs=-1)]: Done 100 out of 100 | elapsed:    0.3s finished\n",
      "[Parallel(n_jobs=8)]: Using backend ThreadingBackend with 8 concurrent workers.\n",
      "[Parallel(n_jobs=8)]: Done  34 tasks      | elapsed:    0.0s\n",
      "[Parallel(n_jobs=8)]: Done 100 out of 100 | elapsed:    0.0s finished\n",
      "[Parallel(n_jobs=-1)]: Using backend LokyBackend with 8 concurrent workers.\n",
      "[Parallel(n_jobs=-1)]: Done  56 tasks      | elapsed:    0.3s\n",
      "[Parallel(n_jobs=-1)]: Done 100 out of 100 | elapsed:    0.4s finished\n"
     ]
    },
    {
     "name": "stdout",
     "output_type": "stream",
     "text": [
      "0.91 accuracy with a standard deviation of 0.02\n"
     ]
    },
    {
     "name": "stderr",
     "output_type": "stream",
     "text": [
      "[Parallel(n_jobs=8)]: Using backend ThreadingBackend with 8 concurrent workers.\n",
      "[Parallel(n_jobs=8)]: Done  34 tasks      | elapsed:    0.0s\n",
      "[Parallel(n_jobs=8)]: Done 100 out of 100 | elapsed:    0.0s finished\n"
     ]
    }
   ],
   "source": [
    "from sklearn.ensemble import RandomForestRegressor\n",
    "# Takes around 20seconds on my Laptop, but might take longer\n",
    "# n_jobs to use full parallelization\n",
    "# sets a seed so results are reproducable\n",
    "clf = RandomForestRegressor(verbose = True, random_state = 0xbeef, n_jobs = -1)\n",
    "scores = cross_val_score(clf, X_enc, (y).values.ravel(), cv = 3)\n",
    "print(\"%0.2f accuracy with a standard deviation of %0.2f\" % (scores.mean(), scores.std()))"
   ]
  },
  {
   "cell_type": "markdown",
   "id": "0cdc5a09",
   "metadata": {},
   "source": [
    "Performs as good as Linear Regression but with lower standard deviance."
   ]
  },
  {
   "cell_type": "markdown",
   "id": "04d51667",
   "metadata": {},
   "source": [
    "## Hyperparameter Tuning\n",
    "We can do better by adjusting the Parameters via Hyperparameter tuning, since our model should be at least as good as a Decision tree.\n",
    "\n",
    "To do that we first use RandomSearch to find some basic values then GridSearch to really narrow it down.\n",
    "\n",
    "### RandomSearch\n",
    "First creating a parameter grid"
   ]
  },
  {
   "cell_type": "code",
   "execution_count": 12,
   "id": "abd2a082",
   "metadata": {},
   "outputs": [],
   "source": [
    "### This block takes around 30 minutes to run\n",
    "#from sklearn.model_selection import RandomizedSearchCV\n",
    "#\n",
    "#n_estimators = list(range(50, 401, 50)) # Number of trees\n",
    "#max_depth = list(range(10, 111, 10)) # How deep the tree is\n",
    "#max_depth.append(None)\n",
    "#\n",
    "#param_distributions = {'n_estimators': n_estimators,\n",
    "#              'max_depth': max_depth}\n",
    "#\n",
    "#rf_random = RandomizedSearchCV(clf, param_distributions, n_iter = 10, cv = 3,\n",
    "#                              verbose = 2)\n",
    "#rf_random.fit(X_enc, y.values.ravel())\n",
    "#"
   ]
  },
  {
   "cell_type": "markdown",
   "id": "00817a25",
   "metadata": {},
   "source": [
    "Best Parameters found:"
   ]
  },
  {
   "cell_type": "code",
   "execution_count": 13,
   "id": "36dd2ad6",
   "metadata": {},
   "outputs": [],
   "source": [
    "#rf_random.best_params_"
   ]
  },
  {
   "cell_type": "markdown",
   "id": "296757a8",
   "metadata": {},
   "source": [
    "**Result:** Best Parameters {'n_estimators': 150, 'max_depth': 100}"
   ]
  },
  {
   "cell_type": "markdown",
   "id": "6e67ca18",
   "metadata": {},
   "source": [
    "### Grid Search\n",
    "\n",
    "To build on that model, we do Grid Search, to tune the parameters even more, since this code takes a long time to run, it has been commented out."
   ]
  },
  {
   "cell_type": "code",
   "execution_count": 14,
   "id": "2d8191e4",
   "metadata": {},
   "outputs": [],
   "source": [
    "#from sklearn.model_selection import GridSearchCV\n",
    "#\n",
    "#param_grid = {\n",
    "#    'n_estimators': list(range(100, 201, 10)),\n",
    "#    'max_depth': [80,90,100,110,120]\n",
    "#}\n",
    "#\n",
    "#grid_search = GridSearchCV(clf, param_grid, cv = 3)\n",
    "#grid_search.fit(X_enc, y.values.ravel())\n",
    "#grid_search.best_params_"
   ]
  },
  {
   "cell_type": "code",
   "execution_count": 15,
   "id": "a9ef498b",
   "metadata": {},
   "outputs": [],
   "source": [
    "#grid_search.best_params_"
   ]
  },
  {
   "cell_type": "markdown",
   "id": "7fece356",
   "metadata": {},
   "source": [
    "**Result**\n",
    "\n",
    "Grid search best parameters:\n",
    "{'max_depth': 120, 'n_estimators': 180}\n",
    "\n",
    "### Optimized Random Forest\n",
    "Result of optimized random forest"
   ]
  },
  {
   "cell_type": "code",
   "execution_count": 16,
   "id": "80b7e1d7",
   "metadata": {},
   "outputs": [
    {
     "name": "stderr",
     "output_type": "stream",
     "text": [
      "[Parallel(n_jobs=-1)]: Using backend LokyBackend with 8 concurrent workers.\n",
      "[Parallel(n_jobs=-1)]: Done  56 tasks      | elapsed:    0.2s\n",
      "[Parallel(n_jobs=-1)]: Done 180 out of 180 | elapsed:    0.6s finished\n",
      "[Parallel(n_jobs=8)]: Using backend ThreadingBackend with 8 concurrent workers.\n",
      "[Parallel(n_jobs=8)]: Done  34 tasks      | elapsed:    0.0s\n",
      "[Parallel(n_jobs=8)]: Done 180 out of 180 | elapsed:    0.0s finished\n",
      "[Parallel(n_jobs=-1)]: Using backend LokyBackend with 8 concurrent workers.\n",
      "[Parallel(n_jobs=-1)]: Done  56 tasks      | elapsed:    0.2s\n",
      "[Parallel(n_jobs=-1)]: Done 180 out of 180 | elapsed:    0.6s finished\n",
      "[Parallel(n_jobs=8)]: Using backend ThreadingBackend with 8 concurrent workers.\n",
      "[Parallel(n_jobs=8)]: Done  34 tasks      | elapsed:    0.0s\n",
      "[Parallel(n_jobs=8)]: Done 180 out of 180 | elapsed:    0.0s finished\n",
      "[Parallel(n_jobs=-1)]: Using backend LokyBackend with 8 concurrent workers.\n",
      "[Parallel(n_jobs=-1)]: Done  56 tasks      | elapsed:    0.2s\n",
      "[Parallel(n_jobs=-1)]: Done 180 out of 180 | elapsed:    0.7s finished\n",
      "[Parallel(n_jobs=8)]: Using backend ThreadingBackend with 8 concurrent workers.\n",
      "[Parallel(n_jobs=8)]: Done  34 tasks      | elapsed:    0.0s\n",
      "[Parallel(n_jobs=8)]: Done 180 out of 180 | elapsed:    0.0s finished\n"
     ]
    },
    {
     "name": "stdout",
     "output_type": "stream",
     "text": [
      "0.91 accuracy with a standard deviation of 0.02\n"
     ]
    }
   ],
   "source": [
    "\n",
    "clf = RandomForestRegressor(verbose = True, max_depth = 120, n_estimators = 180, random_state = 0xbeef, n_jobs = -1)\n",
    "scores = cross_val_score(clf, X_enc, (y).values.ravel(), cv = 3)\n",
    "print(\"%0.2f accuracy with a standard deviation of %0.2f\" % (scores.mean(), scores.std()))"
   ]
  },
  {
   "cell_type": "markdown",
   "id": "78ce0be3",
   "metadata": {},
   "source": [
    "The model did not improve by a lot, we therefore conclude that Linear Regression should give accurate results."
   ]
  },
  {
   "cell_type": "markdown",
   "id": "5737f5ec",
   "metadata": {},
   "source": [
    "## Make predictions\n",
    "\n",
    "We create the dataset for the \"future\" This is just our current X but with years += 14.\n",
    "\n",
    "\n"
   ]
  },
  {
   "cell_type": "code",
   "execution_count": 17,
   "id": "02991858",
   "metadata": {},
   "outputs": [
    {
     "data": {
      "text/html": [
       "<div>\n",
       "<style scoped>\n",
       "    .dataframe tbody tr th:only-of-type {\n",
       "        vertical-align: middle;\n",
       "    }\n",
       "\n",
       "    .dataframe tbody tr th {\n",
       "        vertical-align: top;\n",
       "    }\n",
       "\n",
       "    .dataframe thead th {\n",
       "        text-align: right;\n",
       "    }\n",
       "</style>\n",
       "<table border=\"1\" class=\"dataframe\">\n",
       "  <thead>\n",
       "    <tr style=\"text-align: right;\">\n",
       "      <th></th>\n",
       "      <th>index</th>\n",
       "      <th>region</th>\n",
       "      <th>year</th>\n",
       "    </tr>\n",
       "  </thead>\n",
       "  <tbody>\n",
       "    <tr>\n",
       "      <th>0</th>\n",
       "      <td>8176</td>\n",
       "      <td>00 Sweden</td>\n",
       "      <td>2021</td>\n",
       "    </tr>\n",
       "    <tr>\n",
       "      <th>1</th>\n",
       "      <td>8177</td>\n",
       "      <td>00 Sweden</td>\n",
       "      <td>2022</td>\n",
       "    </tr>\n",
       "    <tr>\n",
       "      <th>2</th>\n",
       "      <td>8178</td>\n",
       "      <td>00 Sweden</td>\n",
       "      <td>2023</td>\n",
       "    </tr>\n",
       "    <tr>\n",
       "      <th>3</th>\n",
       "      <td>8179</td>\n",
       "      <td>00 Sweden</td>\n",
       "      <td>2024</td>\n",
       "    </tr>\n",
       "    <tr>\n",
       "      <th>4</th>\n",
       "      <td>8180</td>\n",
       "      <td>00 Sweden</td>\n",
       "      <td>2025</td>\n",
       "    </tr>\n",
       "  </tbody>\n",
       "</table>\n",
       "</div>"
      ],
      "text/plain": [
       "   index     region  year\n",
       "0   8176  00 Sweden  2021\n",
       "1   8177  00 Sweden  2022\n",
       "2   8178  00 Sweden  2023\n",
       "3   8179  00 Sweden  2024\n",
       "4   8180  00 Sweden  2025"
      ]
     },
     "execution_count": 17,
     "metadata": {},
     "output_type": "execute_result"
    }
   ],
   "source": [
    "X_future = df.drop([target], axis = 1)\n",
    "X_future.year += 14\n",
    "X_future.head()\n"
   ]
  },
  {
   "cell_type": "markdown",
   "id": "df8c555d",
   "metadata": {},
   "source": [
    "Let's fit our model!"
   ]
  },
  {
   "cell_type": "code",
   "execution_count": 18,
   "id": "14f6d4c3",
   "metadata": {},
   "outputs": [
    {
     "data": {
      "text/html": [
       "<div>\n",
       "<style scoped>\n",
       "    .dataframe tbody tr th:only-of-type {\n",
       "        vertical-align: middle;\n",
       "    }\n",
       "\n",
       "    .dataframe tbody tr th {\n",
       "        vertical-align: top;\n",
       "    }\n",
       "\n",
       "    .dataframe thead th {\n",
       "        text-align: right;\n",
       "    }\n",
       "</style>\n",
       "<table border=\"1\" class=\"dataframe\">\n",
       "  <thead>\n",
       "    <tr style=\"text-align: right;\">\n",
       "      <th></th>\n",
       "      <th>index</th>\n",
       "      <th>region</th>\n",
       "      <th>year</th>\n",
       "      <th>Average monthly salary in the municipalities</th>\n",
       "    </tr>\n",
       "  </thead>\n",
       "  <tbody>\n",
       "    <tr>\n",
       "      <th>0</th>\n",
       "      <td>8176</td>\n",
       "      <td>00 Sweden</td>\n",
       "      <td>2021</td>\n",
       "      <td>32642.831090</td>\n",
       "    </tr>\n",
       "    <tr>\n",
       "      <th>1</th>\n",
       "      <td>8177</td>\n",
       "      <td>00 Sweden</td>\n",
       "      <td>2022</td>\n",
       "      <td>33389.724813</td>\n",
       "    </tr>\n",
       "    <tr>\n",
       "      <th>2</th>\n",
       "      <td>8178</td>\n",
       "      <td>00 Sweden</td>\n",
       "      <td>2023</td>\n",
       "      <td>34136.618536</td>\n",
       "    </tr>\n",
       "    <tr>\n",
       "      <th>3</th>\n",
       "      <td>8179</td>\n",
       "      <td>00 Sweden</td>\n",
       "      <td>2024</td>\n",
       "      <td>34883.512259</td>\n",
       "    </tr>\n",
       "    <tr>\n",
       "      <th>4</th>\n",
       "      <td>8180</td>\n",
       "      <td>00 Sweden</td>\n",
       "      <td>2025</td>\n",
       "      <td>35630.405981</td>\n",
       "    </tr>\n",
       "  </tbody>\n",
       "</table>\n",
       "</div>"
      ],
      "text/plain": [
       "   index     region  year  Average monthly salary in the municipalities\n",
       "0   8176  00 Sweden  2021                                  32642.831090\n",
       "1   8177  00 Sweden  2022                                  33389.724813\n",
       "2   8178  00 Sweden  2023                                  34136.618536\n",
       "3   8179  00 Sweden  2024                                  34883.512259\n",
       "4   8180  00 Sweden  2025                                  35630.405981"
      ]
     },
     "execution_count": 18,
     "metadata": {},
     "output_type": "execute_result"
    }
   ],
   "source": [
    "X_future_enc = pd.get_dummies(X_future, columns = [\"region\"])\n",
    "model = LinearRegression().fit(X_enc, y)\n",
    "y_future = model.predict(X_future_enc)\n",
    "result = X_future.copy()\n",
    "result[target] = y_future\n",
    "result.head()"
   ]
  },
  {
   "cell_type": "markdown",
   "id": "08debc65",
   "metadata": {},
   "source": [
    "We now concatenate the predictions with the historical values to make a nice prediction plot. This is also a sanity check to see if something went wrong somewhere:"
   ]
  },
  {
   "cell_type": "code",
   "execution_count": 19,
   "id": "f8760c47",
   "metadata": {},
   "outputs": [
    {
     "data": {
      "text/html": [
       "<div>\n",
       "<style scoped>\n",
       "    .dataframe tbody tr th:only-of-type {\n",
       "        vertical-align: middle;\n",
       "    }\n",
       "\n",
       "    .dataframe tbody tr th {\n",
       "        vertical-align: top;\n",
       "    }\n",
       "\n",
       "    .dataframe thead th {\n",
       "        text-align: right;\n",
       "    }\n",
       "</style>\n",
       "<table border=\"1\" class=\"dataframe\">\n",
       "  <thead>\n",
       "    <tr style=\"text-align: right;\">\n",
       "      <th></th>\n",
       "      <th>region</th>\n",
       "      <th>year</th>\n",
       "      <th>Average monthly salary in the municipalities</th>\n",
       "    </tr>\n",
       "  </thead>\n",
       "  <tbody>\n",
       "    <tr>\n",
       "      <th>4083</th>\n",
       "      <td>3000 Local federation</td>\n",
       "      <td>2030</td>\n",
       "      <td>42722.017452</td>\n",
       "    </tr>\n",
       "    <tr>\n",
       "      <th>4084</th>\n",
       "      <td>3000 Local federation</td>\n",
       "      <td>2031</td>\n",
       "      <td>43468.911175</td>\n",
       "    </tr>\n",
       "    <tr>\n",
       "      <th>4085</th>\n",
       "      <td>3000 Local federation</td>\n",
       "      <td>2032</td>\n",
       "      <td>44215.804897</td>\n",
       "    </tr>\n",
       "    <tr>\n",
       "      <th>4086</th>\n",
       "      <td>3000 Local federation</td>\n",
       "      <td>2033</td>\n",
       "      <td>44962.698620</td>\n",
       "    </tr>\n",
       "    <tr>\n",
       "      <th>4087</th>\n",
       "      <td>3000 Local federation</td>\n",
       "      <td>2034</td>\n",
       "      <td>45709.592343</td>\n",
       "    </tr>\n",
       "  </tbody>\n",
       "</table>\n",
       "</div>"
      ],
      "text/plain": [
       "                     region  year  \\\n",
       "4083  3000 Local federation  2030   \n",
       "4084  3000 Local federation  2031   \n",
       "4085  3000 Local federation  2032   \n",
       "4086  3000 Local federation  2033   \n",
       "4087  3000 Local federation  2034   \n",
       "\n",
       "      Average monthly salary in the municipalities  \n",
       "4083                                  42722.017452  \n",
       "4084                                  43468.911175  \n",
       "4085                                  44215.804897  \n",
       "4086                                  44962.698620  \n",
       "4087                                  45709.592343  "
      ]
     },
     "execution_count": 19,
     "metadata": {},
     "output_type": "execute_result"
    }
   ],
   "source": [
    "df_all = pd.concat([df, result], axis = 0)\n",
    "df_all.drop([\"index\"], axis = 1, inplace = True)\n",
    "df_all.tail()"
   ]
  },
  {
   "cell_type": "code",
   "execution_count": 20,
   "id": "cdded9cf",
   "metadata": {},
   "outputs": [
    {
     "data": {
      "image/png": "[encoded data removed]",
      "text/plain": [
       "<Figure size 576x324 with 1 Axes>"
      ]
     },
     "metadata": {
      "needs_background": "light"
     },
     "output_type": "display_data"
    }
   ],
   "source": [
    "max_2034 = df_all.iloc[df_all[target].idxmax()]\n",
    "min_2034 = df_all.iloc[df_all.loc[df_all.year == 2034][target].idxmin()]\n",
    "\n",
    "min_2008 = df_all.iloc[df_all[target].idxmin()]\n",
    "max_2008 = df_all.iloc[df_all.loc[df_all.year == 2008][target].idxmax()]\n",
    "\n",
    "stockholm = df_all.loc[df_all.region.str.contains(\"Stockholm\")].iloc[0]\n",
    "borlänge = df_all.loc[df_all.region.str.contains(\"Borlänge\")].iloc[0]\n",
    "\n",
    "value_list = [max_2020, stockholm, max_2008, borlänge, min_2020]\n",
    "\n",
    "fig,ax = plt.subplots(figsize = golden)\n",
    "\n",
    "\n",
    "for val in value_list:\n",
    "    df_all_tmp = df_all.loc[df_all.region == val.region]\n",
    "    df_all_tmp.plot(x = \"year\", y = target,ax = ax)\n",
    "\n",
    "df_all.plot(x = \"year\", y = target,ax = ax, alpha = 0.3, color = \"grey\")\n",
    "\n",
    "ax.get_legend().remove()\n",
    "ax.set_ylabel(\"Average Salary (SEK)\", size = 16)\n",
    "ax.set_xlabel(\"Year\", size = 16)\n",
    "\n",
    "# Add Prediction line\n",
    "line_X = [2020.5,2020.5]\n",
    "line_Y = [20000, 50000] \n",
    "plt.plot(line_X, line_Y, '--' )\n",
    "\n",
    "# \n",
    "plt.text(2021, 44000, \"Predictions\", c = \"brown\", size = 16)\n",
    "plt.xticks(size = 14)\n",
    "plt.yticks(size = 14)\n",
    "fig.savefig(\"Wages_prediction_df_all.pdf\")"
   ]
  },
  {
   "cell_type": "markdown",
   "id": "a9132402",
   "metadata": {},
   "source": [
    "Where are the highest wages in 2027?"
   ]
  },
  {
   "cell_type": "code",
   "execution_count": 21,
   "id": "12e367c6",
   "metadata": {},
   "outputs": [
    {
     "name": "stdout",
     "output_type": "stream",
     "text": [
      " index                region  year  Average monthly salary in the municipalities\n",
      " 12256 3000 Local federation  2027                                  40481.336284\n",
      "  8378             0160 Täby  2027                                  40374.193427\n",
      "  8406       0163 Sollentuna  2027                                  40338.479141\n",
      "  8448            0182 Nacka  2027                                  40088.479141\n",
      "  8196   0114 Upplands Väsby  2027                                  39467.050570\n",
      "  8392         0162 Danderyd  2027                                  39359.907712\n",
      "  9568         1233 Vellinge  2027                                  39324.193427\n",
      "  8476            0184 Solna  2027                                  39231.336284\n",
      "  8420        0180 Stockholm  2027                                  39081.336284\n",
      "  8490          0186 Lidingö  2027                                  38824.193427\n"
     ]
    }
   ],
   "source": [
    "result_5 = result.loc[result.year == 2027]\n",
    "print(result_5.sort_values(target,ascending = False).head(10).to_string(index = False))"
   ]
  }
 ],
 "metadata": {
  "kernelspec": {
   "display_name": "Python 3 (ipykernel)",
   "language": "python",
   "name": "python3"
  },
  "language_info": {
   "codemirror_mode": {
    "name": "ipython",
    "version": 3
   },
   "file_extension": ".py",
   "mimetype": "text/x-python",
   "name": "python",
   "nbconvert_exporter": "python",
   "pygments_lexer": "ipython3",
   "version": "3.8.8"
  }
 },
 "nbformat": 4,
 "nbformat_minor": 5
}
